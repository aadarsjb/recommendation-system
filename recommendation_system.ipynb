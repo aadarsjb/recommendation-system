{
  "nbformat": 4,
  "nbformat_minor": 0,
  "metadata": {
    "colab": {
      "provenance": [],
      "authorship_tag": "ABX9TyP3NYs+C2CXwX17erHoIgzr",
      "include_colab_link": true
    },
    "kernelspec": {
      "name": "python3",
      "display_name": "Python 3"
    },
    "language_info": {
      "name": "python"
    }
  },
  "cells": [
    {
      "cell_type": "markdown",
      "metadata": {
        "id": "view-in-github",
        "colab_type": "text"
      },
      "source": [
        "<a href=\"https://colab.research.google.com/github/aadarsjb/recommendation-system/blob/main/recommendation_system.ipynb\" target=\"_parent\"><img src=\"https://colab.research.google.com/assets/colab-badge.svg\" alt=\"Open In Colab\"/></a>"
      ]
    },
    {
      "cell_type": "markdown",
      "source": [
        "importing pandas and numpy"
      ],
      "metadata": {
        "id": "zKKIeiG6UzuK"
      }
    },
    {
      "cell_type": "code",
      "execution_count": 65,
      "metadata": {
        "id": "q_t_-Tasmsdn"
      },
      "outputs": [],
      "source": [
        "import pandas as pd\n",
        "import numpy as np"
      ]
    },
    {
      "cell_type": "markdown",
      "source": [
        "importing movies credit datasets"
      ],
      "metadata": {
        "id": "39imq1GzU9V5"
      }
    },
    {
      "cell_type": "code",
      "source": [
        "credits = pd.read_csv(\"tmdb_5000_credits.csv\")"
      ],
      "metadata": {
        "id": "wr-TznlJG3i8"
      },
      "execution_count": 66,
      "outputs": []
    },
    {
      "cell_type": "markdown",
      "source": [
        "importing movies datasets"
      ],
      "metadata": {
        "id": "jNrQF3EXU7JP"
      }
    },
    {
      "cell_type": "code",
      "source": [
        "movies_df = pd.read_csv(\"tmdb_5000_movies.csv\")"
      ],
      "metadata": {
        "id": "va6oHQ04EqO2"
      },
      "execution_count": 67,
      "outputs": []
    },
    {
      "cell_type": "markdown",
      "source": [
        "viewing the datasets of credit"
      ],
      "metadata": {
        "id": "08hpFbszVExe"
      }
    },
    {
      "cell_type": "code",
      "source": [
        "credits.head()"
      ],
      "metadata": {
        "id": "27tYJPm3HFYa"
      },
      "execution_count": null,
      "outputs": []
    },
    {
      "cell_type": "markdown",
      "source": [
        "viewing the datasets of movies"
      ],
      "metadata": {
        "id": "pDepixK1VJv3"
      }
    },
    {
      "cell_type": "code",
      "source": [
        "movies_df.head()"
      ],
      "metadata": {
        "id": "5vdZpu0PFzjU"
      },
      "execution_count": null,
      "outputs": []
    },
    {
      "cell_type": "code",
      "source": [
        "print(\"Credits:\", credits_df.shape)\n",
        "print(\"Movies Dataframe:\", movies_df.shape) "
      ],
      "metadata": {
        "colab": {
          "base_uri": "https://localhost:8080/"
        },
        "id": "H0hmu1GQG1Q1",
        "outputId": "953ae010-34a9-4e59-fbcd-3b2e0e46b844"
      },
      "execution_count": 70,
      "outputs": [
        {
          "output_type": "stream",
          "name": "stdout",
          "text": [
            "Credits: (4803, 4)\n",
            "Movies Dataframe: (4803, 20)\n"
          ]
        }
      ]
    },
    {
      "cell_type": "code",
      "source": [
        "credits.columns"
      ],
      "metadata": {
        "colab": {
          "base_uri": "https://localhost:8080/"
        },
        "id": "tk3ZYzicPKy5",
        "outputId": "d464c15b-68ad-4266-f3e6-87aaa858feda"
      },
      "execution_count": 71,
      "outputs": [
        {
          "output_type": "execute_result",
          "data": {
            "text/plain": [
              "Index(['movie_id', 'title', 'cast', 'crew'], dtype='object')"
            ]
          },
          "metadata": {},
          "execution_count": 71
        }
      ]
    },
    {
      "cell_type": "markdown",
      "source": [
        "renaming the credits column movie_id with id"
      ],
      "metadata": {
        "id": "bDtg-7U3VSfR"
      }
    },
    {
      "cell_type": "code",
      "source": [
        "credits_column_renamed=credits.rename(columns={'movie_id': 'id'}, inplace=True)\n"
      ],
      "metadata": {
        "id": "byP8EQ4fPSC9"
      },
      "execution_count": 52,
      "outputs": []
    },
    {
      "cell_type": "code",
      "execution_count": 72,
      "metadata": {
        "id": "THjt_55qTLha",
        "outputId": "44c43692-7eec-499f-bc63-6a6a7fe455e2",
        "colab": {
          "base_uri": "https://localhost:8080/",
          "height": 74
        }
      },
      "outputs": [
        {
          "output_type": "display_data",
          "data": {
            "text/plain": [
              "'credits'"
            ],
            "application/vnd.google.colaboratory.intrinsic+json": {
              "type": "string"
            }
          },
          "metadata": {}
        },
        {
          "output_type": "display_data",
          "data": {
            "text/plain": [
              "'movies_df'"
            ],
            "application/vnd.google.colaboratory.intrinsic+json": {
              "type": "string"
            }
          },
          "metadata": {}
        },
        {
          "output_type": "display_data",
          "data": {
            "text/plain": [
              "\"pd.merge(credits, movies_df, on='id')\""
            ],
            "application/vnd.google.colaboratory.intrinsic+json": {
              "type": "string"
            }
          },
          "metadata": {}
        }
      ],
      "source": [
        "display('credits', 'movies_df', \"pd.merge(credits, movies_df, on='id')\")"
      ]
    },
    {
      "cell_type": "markdown",
      "source": [
        "merging datasets"
      ],
      "metadata": {
        "id": "dt8a7qT9tJw8"
      }
    },
    {
      "cell_type": "markdown",
      "source": [
        "displaying merged datasets"
      ],
      "metadata": {
        "id": "j0Os3tttVfTO"
      }
    },
    {
      "cell_type": "code",
      "source": [
        "movies_df_merge.head(2)"
      ],
      "metadata": {
        "id": "nw7eSzi4UKrJ"
      },
      "execution_count": null,
      "outputs": []
    },
    {
      "cell_type": "markdown",
      "source": [
        "dropping unnecessary columns:"
      ],
      "metadata": {
        "id": "cMvS-h4pVoVu"
      }
    },
    {
      "cell_type": "code",
      "source": [
        "movies_cleaned_df = movies_df_merge.drop(columns=['homepage', 'title_x', 'title_y', 'status', 'production_countries'])"
      ],
      "metadata": {
        "id": "V90NG1d-UTDo"
      },
      "execution_count": 75,
      "outputs": []
    },
    {
      "cell_type": "code",
      "source": [
        "movies_cleaned_df.head(2)"
      ],
      "metadata": {
        "id": "ad6IiwRXWd2x"
      },
      "execution_count": null,
      "outputs": []
    },
    {
      "cell_type": "markdown",
      "source": [
        "Content Based Recommendation System"
      ],
      "metadata": {
        "id": "XeWF_9sBXYN1"
      }
    },
    {
      "cell_type": "code",
      "source": [
        "movies_cleaned_df.head(1)['overview']"
      ],
      "metadata": {
        "colab": {
          "base_uri": "https://localhost:8080/"
        },
        "id": "1juWgEwJW09I",
        "outputId": "46f52e5a-c8a3-4ca0-97c8-41f1137020bb"
      },
      "execution_count": 77,
      "outputs": [
        {
          "output_type": "execute_result",
          "data": {
            "text/plain": [
              "0    In the 22nd century, a paraplegic Marine is di...\n",
              "Name: overview, dtype: object"
            ]
          },
          "metadata": {},
          "execution_count": 77
        }
      ]
    },
    {
      "cell_type": "code",
      "source": [
        "from sklearn.feature_extraction.text import TfidfVectorizer"
      ],
      "metadata": {
        "id": "pArXumlxXoKh"
      },
      "execution_count": 78,
      "outputs": []
    },
    {
      "cell_type": "code",
      "source": [
        "tfv = TfidfVectorizer(\n",
        "                      min_df = 3, max_features = None, \n",
        "                      strip_accents = 'unicode',\n",
        "                      analyzer='word', token_pattern=r'\\w{1,}',\n",
        "                      ngram_range= (1,3),\n",
        "                      stop_words= 'english' \n",
        "                      )\n"
      ],
      "metadata": {
        "id": "1xcDDU7RpmM8"
      },
      "execution_count": 82,
      "outputs": []
    },
    {
      "cell_type": "code",
      "source": [
        "#filling NaNs with empty string\n",
        "movies_cleaned_df['overview'] = movies_cleaned_df['overview'].fillna('')"
      ],
      "metadata": {
        "id": "PhUAgOsYrhSb"
      },
      "execution_count": 85,
      "outputs": []
    },
    {
      "cell_type": "code",
      "source": [
        "#fitting the TF-IDF on the'overview' text\n",
        "tfv_matrix = tfv.fit_transform(movies_cleaned_df['overview'])"
      ],
      "metadata": {
        "id": "__EczvZTsRB0"
      },
      "execution_count": 86,
      "outputs": []
    },
    {
      "cell_type": "code",
      "source": [
        "tfv_matrix"
      ],
      "metadata": {
        "colab": {
          "base_uri": "https://localhost:8080/"
        },
        "id": "8d0xV0mssmZX",
        "outputId": "fda14e90-c599-45ae-d6df-7277b572ec55"
      },
      "execution_count": 87,
      "outputs": [
        {
          "output_type": "execute_result",
          "data": {
            "text/plain": [
              "<4803x10417 sparse matrix of type '<class 'numpy.float64'>'\n",
              "\twith 127220 stored elements in Compressed Sparse Row format>"
            ]
          },
          "metadata": {},
          "execution_count": 87
        }
      ]
    },
    {
      "cell_type": "code",
      "source": [
        "tfv_matrix.shape"
      ],
      "metadata": {
        "colab": {
          "base_uri": "https://localhost:8080/"
        },
        "id": "hAHqJzBisw2L",
        "outputId": "13643f4a-578b-4965-f408-8a5a2a4cbf05"
      },
      "execution_count": 88,
      "outputs": [
        {
          "output_type": "execute_result",
          "data": {
            "text/plain": [
              "(4803, 10417)"
            ]
          },
          "metadata": {},
          "execution_count": 88
        }
      ]
    },
    {
      "cell_type": "code",
      "source": [
        "from sklearn.metrics.pairwise import sigmoid_kernel"
      ],
      "metadata": {
        "id": "esY60pXdtPvB"
      },
      "execution_count": 94,
      "outputs": []
    },
    {
      "cell_type": "code",
      "source": [
        "sig = sigmoid_kernel(tfv_matrix, tfv_matrix)"
      ],
      "metadata": {
        "id": "a61DwYVxtudN"
      },
      "execution_count": 95,
      "outputs": []
    },
    {
      "cell_type": "code",
      "source": [
        "sig[0]"
      ],
      "metadata": {
        "colab": {
          "base_uri": "https://localhost:8080/"
        },
        "id": "rXx6CFb0t39L",
        "outputId": "f1a45cc1-31d1-461e-ee2c-08ddf731aadd"
      },
      "execution_count": 96,
      "outputs": [
        {
          "output_type": "execute_result",
          "data": {
            "text/plain": [
              "array([0.76163447, 0.76159416, 0.76159416, ..., 0.76159416, 0.76159416,\n",
              "       0.76159416])"
            ]
          },
          "metadata": {},
          "execution_count": 96
        }
      ]
    },
    {
      "cell_type": "code",
      "source": [
        "#reverse mapping of indices and movie titles\n",
        "indices = pd.Series(movies_cleaned_df.index, index=movies_cleaned_df['original_title']).drop_duplicates()"
      ],
      "metadata": {
        "id": "1o2tIuKWuOjG"
      },
      "execution_count": 97,
      "outputs": []
    },
    {
      "cell_type": "code",
      "source": [
        "indices"
      ],
      "metadata": {
        "id": "jN5p-2S7uu1b"
      },
      "execution_count": null,
      "outputs": []
    },
    {
      "cell_type": "code",
      "source": [
        "indices['Newlyweds']"
      ],
      "metadata": {
        "colab": {
          "base_uri": "https://localhost:8080/"
        },
        "id": "DzdivaeXu2mn",
        "outputId": "2d655e36-b64d-465a-9f64-8b9144ddf450"
      },
      "execution_count": 99,
      "outputs": [
        {
          "output_type": "execute_result",
          "data": {
            "text/plain": [
              "4799"
            ]
          },
          "metadata": {},
          "execution_count": 99
        }
      ]
    },
    {
      "cell_type": "code",
      "source": [
        "sig[4799]"
      ],
      "metadata": {
        "colab": {
          "base_uri": "https://localhost:8080/"
        },
        "id": "LQYOD0ffvWzW",
        "outputId": "d42bdcfc-e0ed-4be8-cc56-39c487eec6e6"
      },
      "execution_count": 100,
      "outputs": [
        {
          "output_type": "execute_result",
          "data": {
            "text/plain": [
              "array([0.76159416, 0.76159416, 0.76159438, ..., 0.76159432, 0.76159416,\n",
              "       0.76159478])"
            ]
          },
          "metadata": {},
          "execution_count": 100
        }
      ]
    },
    {
      "cell_type": "code",
      "source": [
        "list(enumerate(sig[indices['Newlyweds']]))"
      ],
      "metadata": {
        "id": "YU3jb_juvcZZ"
      },
      "execution_count": null,
      "outputs": []
    },
    {
      "cell_type": "code",
      "source": [
        "sorted(list(enumerate(sig[indices['Newlyweds']])), key = lambda x: x[1], reverse = True)"
      ],
      "metadata": {
        "id": "jpqYwM6jvxm7"
      },
      "execution_count": null,
      "outputs": []
    },
    {
      "cell_type": "code",
      "source": [
        "def give_rec(title, sig = sig):\n",
        "  #Get the index corresponding to original_title\n",
        "   idx= indices[title]\n",
        "\n",
        "   #get the pairwise similarity scores\n",
        "   sig_scores = list(enumerate(sig[idx]))\n",
        "\n",
        "   #sort the movies\n",
        "   sig_scores= sorted(sig_scores, key=lambda x: x[1], reverse=True)\n",
        "\n",
        "   #scores of the 10 most similar movies\n",
        "   sig_scores = sig_scores[1:11]\n",
        "\n",
        "   #movie indices\n",
        "   movie_indices = [i[0] for i in sig_scores]\n",
        "\n",
        "   #top 10 most similar movies\n",
        "   return movies_cleaned_df['original_title'].iloc[movie_indices] "
      ],
      "metadata": {
        "id": "AVFy7dg7wWxe"
      },
      "execution_count": 104,
      "outputs": []
    },
    {
      "cell_type": "code",
      "source": [
        "#testing ouir system\n",
        "give_rec('Avatar')"
      ],
      "metadata": {
        "colab": {
          "base_uri": "https://localhost:8080/"
        },
        "id": "dK6f4uJc6ptb",
        "outputId": "3ecc5d7f-1005-4558-e9f6-e3c9e1dfbb13"
      },
      "execution_count": 107,
      "outputs": [
        {
          "output_type": "execute_result",
          "data": {
            "text/plain": [
              "1341                Obitaemyy Ostrov\n",
              "634                       The Matrix\n",
              "3604                       Apollo 18\n",
              "2130                    The American\n",
              "775                        Supernova\n",
              "529                 Tears of the Sun\n",
              "151                          Beowulf\n",
              "311     The Adventures of Pluto Nash\n",
              "847                         Semi-Pro\n",
              "942                 The Book of Life\n",
              "Name: original_title, dtype: object"
            ]
          },
          "metadata": {},
          "execution_count": 107
        }
      ]
    }
  ]
}